{
  "nbformat": 4,
  "nbformat_minor": 0,
  "metadata": {
    "colab": {
      "name": "Online_P2P_Lending_Market.ipynb",
      "provenance": [],
      "authorship_tag": "ABX9TyPqQD5pneEbMvDw2YTppaIR",
      "include_colab_link": true
    },
    "kernelspec": {
      "name": "python3",
      "display_name": "Python 3"
    },
    "language_info": {
      "name": "python"
    }
  },
  "cells": [
    {
      "cell_type": "markdown",
      "metadata": {
        "id": "view-in-github",
        "colab_type": "text"
      },
      "source": [
        "<a href=\"https://colab.research.google.com/github/MAboElFottouh/Online-P2P-Lending-Market/blob/main/Online_P2P_Lending_Market.ipynb\" target=\"_parent\"><img src=\"https://colab.research.google.com/assets/colab-badge.svg\" alt=\"Open In Colab\"/></a>"
      ]
    },
    {
      "cell_type": "code",
      "execution_count": 1,
      "metadata": {
        "colab": {
          "base_uri": "https://localhost:8080/"
        },
        "id": "3UAU6-qmZwyO",
        "outputId": "19d1ed02-5fae-44fa-9dfa-604d6ac9f34d"
      },
      "outputs": [
        {
          "output_type": "stream",
          "name": "stdout",
          "text": [
            "Mounted at /content/drive\n"
          ]
        }
      ],
      "source": [
        "from google.colab import drive\n",
        "drive.mount('/content/drive')"
      ]
    },
    {
      "cell_type": "code",
      "source": [
        "import pandas  as pd #Data manipulation\n",
        "import numpy as np #Data manipulation\n",
        "import matplotlib.pyplot as plt # Visualization\n",
        "import seaborn as sns #Visualization"
      ],
      "metadata": {
        "id": "MTYahr9RZ9No"
      },
      "execution_count": 2,
      "outputs": []
    },
    {
      "cell_type": "code",
      "source": [
        "data = pd.read_csv(\"/content/drive/MyDrive/prosperLoanData.csv\")\n"
      ],
      "metadata": {
        "id": "0h30EtoPaHN4"
      },
      "execution_count": 3,
      "outputs": []
    },
    {
      "cell_type": "code",
      "source": [
        "print('\\nNumber of rows and columns in the data set: ',data.shape)\n",
        "#Lets look into top few rows and columns in the dataset\n",
        "data.head()"
      ],
      "metadata": {
        "colab": {
          "base_uri": "https://localhost:8080/",
          "height": 421
        },
        "id": "7Ago5QuUaYzN",
        "outputId": "6bedfcf5-7626-446c-9a71-69804d64c6d1"
      },
      "execution_count": 4,
      "outputs": [
        {
          "output_type": "stream",
          "name": "stdout",
          "text": [
            "\n",
            "Number of rows and columns in the data set:  (113937, 81)\n"
          ]
        },
        {
          "output_type": "execute_result",
          "data": {
            "text/plain": [
              "                ListingKey  ListingNumber            ListingCreationDate  \\\n",
              "0  1021339766868145413AB3B         193129  2007-08-26 19:09:29.263000000   \n",
              "1  10273602499503308B223C1        1209647  2014-02-27 08:28:07.900000000   \n",
              "2  0EE9337825851032864889A          81716  2007-01-05 15:00:47.090000000   \n",
              "3  0EF5356002482715299901A         658116  2012-10-22 11:02:35.010000000   \n",
              "4  0F023589499656230C5E3E2         909464  2013-09-14 18:38:39.097000000   \n",
              "\n",
              "  CreditGrade  Term LoanStatus           ClosedDate  BorrowerAPR  \\\n",
              "0           C    36  Completed  2009-08-14 00:00:00      0.16516   \n",
              "1         NaN    36    Current                  NaN      0.12016   \n",
              "2          HR    36  Completed  2009-12-17 00:00:00      0.28269   \n",
              "3         NaN    36    Current                  NaN      0.12528   \n",
              "4         NaN    36    Current                  NaN      0.24614   \n",
              "\n",
              "   BorrowerRate  LenderYield  ...  LP_ServiceFees  LP_CollectionFees  \\\n",
              "0        0.1580       0.1380  ...         -133.18                0.0   \n",
              "1        0.0920       0.0820  ...            0.00                0.0   \n",
              "2        0.2750       0.2400  ...          -24.20                0.0   \n",
              "3        0.0974       0.0874  ...         -108.01                0.0   \n",
              "4        0.2085       0.1985  ...          -60.27                0.0   \n",
              "\n",
              "   LP_GrossPrincipalLoss  LP_NetPrincipalLoss LP_NonPrincipalRecoverypayments  \\\n",
              "0                    0.0                  0.0                             0.0   \n",
              "1                    0.0                  0.0                             0.0   \n",
              "2                    0.0                  0.0                             0.0   \n",
              "3                    0.0                  0.0                             0.0   \n",
              "4                    0.0                  0.0                             0.0   \n",
              "\n",
              "   PercentFunded  Recommendations InvestmentFromFriendsCount  \\\n",
              "0            1.0                0                          0   \n",
              "1            1.0                0                          0   \n",
              "2            1.0                0                          0   \n",
              "3            1.0                0                          0   \n",
              "4            1.0                0                          0   \n",
              "\n",
              "  InvestmentFromFriendsAmount Investors  \n",
              "0                         0.0       258  \n",
              "1                         0.0         1  \n",
              "2                         0.0        41  \n",
              "3                         0.0       158  \n",
              "4                         0.0        20  \n",
              "\n",
              "[5 rows x 81 columns]"
            ],
            "text/html": [
              "\n",
              "  <div id=\"df-bb692c09-dc20-4c9c-a996-70a9232540a6\">\n",
              "    <div class=\"colab-df-container\">\n",
              "      <div>\n",
              "<style scoped>\n",
              "    .dataframe tbody tr th:only-of-type {\n",
              "        vertical-align: middle;\n",
              "    }\n",
              "\n",
              "    .dataframe tbody tr th {\n",
              "        vertical-align: top;\n",
              "    }\n",
              "\n",
              "    .dataframe thead th {\n",
              "        text-align: right;\n",
              "    }\n",
              "</style>\n",
              "<table border=\"1\" class=\"dataframe\">\n",
              "  <thead>\n",
              "    <tr style=\"text-align: right;\">\n",
              "      <th></th>\n",
              "      <th>ListingKey</th>\n",
              "      <th>ListingNumber</th>\n",
              "      <th>ListingCreationDate</th>\n",
              "      <th>CreditGrade</th>\n",
              "      <th>Term</th>\n",
              "      <th>LoanStatus</th>\n",
              "      <th>ClosedDate</th>\n",
              "      <th>BorrowerAPR</th>\n",
              "      <th>BorrowerRate</th>\n",
              "      <th>LenderYield</th>\n",
              "      <th>...</th>\n",
              "      <th>LP_ServiceFees</th>\n",
              "      <th>LP_CollectionFees</th>\n",
              "      <th>LP_GrossPrincipalLoss</th>\n",
              "      <th>LP_NetPrincipalLoss</th>\n",
              "      <th>LP_NonPrincipalRecoverypayments</th>\n",
              "      <th>PercentFunded</th>\n",
              "      <th>Recommendations</th>\n",
              "      <th>InvestmentFromFriendsCount</th>\n",
              "      <th>InvestmentFromFriendsAmount</th>\n",
              "      <th>Investors</th>\n",
              "    </tr>\n",
              "  </thead>\n",
              "  <tbody>\n",
              "    <tr>\n",
              "      <th>0</th>\n",
              "      <td>1021339766868145413AB3B</td>\n",
              "      <td>193129</td>\n",
              "      <td>2007-08-26 19:09:29.263000000</td>\n",
              "      <td>C</td>\n",
              "      <td>36</td>\n",
              "      <td>Completed</td>\n",
              "      <td>2009-08-14 00:00:00</td>\n",
              "      <td>0.16516</td>\n",
              "      <td>0.1580</td>\n",
              "      <td>0.1380</td>\n",
              "      <td>...</td>\n",
              "      <td>-133.18</td>\n",
              "      <td>0.0</td>\n",
              "      <td>0.0</td>\n",
              "      <td>0.0</td>\n",
              "      <td>0.0</td>\n",
              "      <td>1.0</td>\n",
              "      <td>0</td>\n",
              "      <td>0</td>\n",
              "      <td>0.0</td>\n",
              "      <td>258</td>\n",
              "    </tr>\n",
              "    <tr>\n",
              "      <th>1</th>\n",
              "      <td>10273602499503308B223C1</td>\n",
              "      <td>1209647</td>\n",
              "      <td>2014-02-27 08:28:07.900000000</td>\n",
              "      <td>NaN</td>\n",
              "      <td>36</td>\n",
              "      <td>Current</td>\n",
              "      <td>NaN</td>\n",
              "      <td>0.12016</td>\n",
              "      <td>0.0920</td>\n",
              "      <td>0.0820</td>\n",
              "      <td>...</td>\n",
              "      <td>0.00</td>\n",
              "      <td>0.0</td>\n",
              "      <td>0.0</td>\n",
              "      <td>0.0</td>\n",
              "      <td>0.0</td>\n",
              "      <td>1.0</td>\n",
              "      <td>0</td>\n",
              "      <td>0</td>\n",
              "      <td>0.0</td>\n",
              "      <td>1</td>\n",
              "    </tr>\n",
              "    <tr>\n",
              "      <th>2</th>\n",
              "      <td>0EE9337825851032864889A</td>\n",
              "      <td>81716</td>\n",
              "      <td>2007-01-05 15:00:47.090000000</td>\n",
              "      <td>HR</td>\n",
              "      <td>36</td>\n",
              "      <td>Completed</td>\n",
              "      <td>2009-12-17 00:00:00</td>\n",
              "      <td>0.28269</td>\n",
              "      <td>0.2750</td>\n",
              "      <td>0.2400</td>\n",
              "      <td>...</td>\n",
              "      <td>-24.20</td>\n",
              "      <td>0.0</td>\n",
              "      <td>0.0</td>\n",
              "      <td>0.0</td>\n",
              "      <td>0.0</td>\n",
              "      <td>1.0</td>\n",
              "      <td>0</td>\n",
              "      <td>0</td>\n",
              "      <td>0.0</td>\n",
              "      <td>41</td>\n",
              "    </tr>\n",
              "    <tr>\n",
              "      <th>3</th>\n",
              "      <td>0EF5356002482715299901A</td>\n",
              "      <td>658116</td>\n",
              "      <td>2012-10-22 11:02:35.010000000</td>\n",
              "      <td>NaN</td>\n",
              "      <td>36</td>\n",
              "      <td>Current</td>\n",
              "      <td>NaN</td>\n",
              "      <td>0.12528</td>\n",
              "      <td>0.0974</td>\n",
              "      <td>0.0874</td>\n",
              "      <td>...</td>\n",
              "      <td>-108.01</td>\n",
              "      <td>0.0</td>\n",
              "      <td>0.0</td>\n",
              "      <td>0.0</td>\n",
              "      <td>0.0</td>\n",
              "      <td>1.0</td>\n",
              "      <td>0</td>\n",
              "      <td>0</td>\n",
              "      <td>0.0</td>\n",
              "      <td>158</td>\n",
              "    </tr>\n",
              "    <tr>\n",
              "      <th>4</th>\n",
              "      <td>0F023589499656230C5E3E2</td>\n",
              "      <td>909464</td>\n",
              "      <td>2013-09-14 18:38:39.097000000</td>\n",
              "      <td>NaN</td>\n",
              "      <td>36</td>\n",
              "      <td>Current</td>\n",
              "      <td>NaN</td>\n",
              "      <td>0.24614</td>\n",
              "      <td>0.2085</td>\n",
              "      <td>0.1985</td>\n",
              "      <td>...</td>\n",
              "      <td>-60.27</td>\n",
              "      <td>0.0</td>\n",
              "      <td>0.0</td>\n",
              "      <td>0.0</td>\n",
              "      <td>0.0</td>\n",
              "      <td>1.0</td>\n",
              "      <td>0</td>\n",
              "      <td>0</td>\n",
              "      <td>0.0</td>\n",
              "      <td>20</td>\n",
              "    </tr>\n",
              "  </tbody>\n",
              "</table>\n",
              "<p>5 rows × 81 columns</p>\n",
              "</div>\n",
              "      <button class=\"colab-df-convert\" onclick=\"convertToInteractive('df-bb692c09-dc20-4c9c-a996-70a9232540a6')\"\n",
              "              title=\"Convert this dataframe to an interactive table.\"\n",
              "              style=\"display:none;\">\n",
              "        \n",
              "  <svg xmlns=\"http://www.w3.org/2000/svg\" height=\"24px\"viewBox=\"0 0 24 24\"\n",
              "       width=\"24px\">\n",
              "    <path d=\"M0 0h24v24H0V0z\" fill=\"none\"/>\n",
              "    <path d=\"M18.56 5.44l.94 2.06.94-2.06 2.06-.94-2.06-.94-.94-2.06-.94 2.06-2.06.94zm-11 1L8.5 8.5l.94-2.06 2.06-.94-2.06-.94L8.5 2.5l-.94 2.06-2.06.94zm10 10l.94 2.06.94-2.06 2.06-.94-2.06-.94-.94-2.06-.94 2.06-2.06.94z\"/><path d=\"M17.41 7.96l-1.37-1.37c-.4-.4-.92-.59-1.43-.59-.52 0-1.04.2-1.43.59L10.3 9.45l-7.72 7.72c-.78.78-.78 2.05 0 2.83L4 21.41c.39.39.9.59 1.41.59.51 0 1.02-.2 1.41-.59l7.78-7.78 2.81-2.81c.8-.78.8-2.07 0-2.86zM5.41 20L4 18.59l7.72-7.72 1.47 1.35L5.41 20z\"/>\n",
              "  </svg>\n",
              "      </button>\n",
              "      \n",
              "  <style>\n",
              "    .colab-df-container {\n",
              "      display:flex;\n",
              "      flex-wrap:wrap;\n",
              "      gap: 12px;\n",
              "    }\n",
              "\n",
              "    .colab-df-convert {\n",
              "      background-color: #E8F0FE;\n",
              "      border: none;\n",
              "      border-radius: 50%;\n",
              "      cursor: pointer;\n",
              "      display: none;\n",
              "      fill: #1967D2;\n",
              "      height: 32px;\n",
              "      padding: 0 0 0 0;\n",
              "      width: 32px;\n",
              "    }\n",
              "\n",
              "    .colab-df-convert:hover {\n",
              "      background-color: #E2EBFA;\n",
              "      box-shadow: 0px 1px 2px rgba(60, 64, 67, 0.3), 0px 1px 3px 1px rgba(60, 64, 67, 0.15);\n",
              "      fill: #174EA6;\n",
              "    }\n",
              "\n",
              "    [theme=dark] .colab-df-convert {\n",
              "      background-color: #3B4455;\n",
              "      fill: #D2E3FC;\n",
              "    }\n",
              "\n",
              "    [theme=dark] .colab-df-convert:hover {\n",
              "      background-color: #434B5C;\n",
              "      box-shadow: 0px 1px 3px 1px rgba(0, 0, 0, 0.15);\n",
              "      filter: drop-shadow(0px 1px 2px rgba(0, 0, 0, 0.3));\n",
              "      fill: #FFFFFF;\n",
              "    }\n",
              "  </style>\n",
              "\n",
              "      <script>\n",
              "        const buttonEl =\n",
              "          document.querySelector('#df-bb692c09-dc20-4c9c-a996-70a9232540a6 button.colab-df-convert');\n",
              "        buttonEl.style.display =\n",
              "          google.colab.kernel.accessAllowed ? 'block' : 'none';\n",
              "\n",
              "        async function convertToInteractive(key) {\n",
              "          const element = document.querySelector('#df-bb692c09-dc20-4c9c-a996-70a9232540a6');\n",
              "          const dataTable =\n",
              "            await google.colab.kernel.invokeFunction('convertToInteractive',\n",
              "                                                     [key], {});\n",
              "          if (!dataTable) return;\n",
              "\n",
              "          const docLinkHtml = 'Like what you see? Visit the ' +\n",
              "            '<a target=\"_blank\" href=https://colab.research.google.com/notebooks/data_table.ipynb>data table notebook</a>'\n",
              "            + ' to learn more about interactive tables.';\n",
              "          element.innerHTML = '';\n",
              "          dataTable['output_type'] = 'display_data';\n",
              "          await google.colab.output.renderOutput(dataTable, element);\n",
              "          const docLink = document.createElement('div');\n",
              "          docLink.innerHTML = docLinkHtml;\n",
              "          element.appendChild(docLink);\n",
              "        }\n",
              "      </script>\n",
              "    </div>\n",
              "  </div>\n",
              "  "
            ]
          },
          "metadata": {},
          "execution_count": 4
        }
      ]
    },
    {
      "cell_type": "code",
      "source": [
        "data.info()\n"
      ],
      "metadata": {
        "colab": {
          "base_uri": "https://localhost:8080/"
        },
        "id": "s1cDAntBdBWH",
        "outputId": "10492115-f867-485a-c422-13022c50e720"
      },
      "execution_count": 5,
      "outputs": [
        {
          "output_type": "stream",
          "name": "stdout",
          "text": [
            "<class 'pandas.core.frame.DataFrame'>\n",
            "RangeIndex: 113937 entries, 0 to 113936\n",
            "Data columns (total 81 columns):\n",
            " #   Column                               Non-Null Count   Dtype  \n",
            "---  ------                               --------------   -----  \n",
            " 0   ListingKey                           113937 non-null  object \n",
            " 1   ListingNumber                        113937 non-null  int64  \n",
            " 2   ListingCreationDate                  113937 non-null  object \n",
            " 3   CreditGrade                          28953 non-null   object \n",
            " 4   Term                                 113937 non-null  int64  \n",
            " 5   LoanStatus                           113937 non-null  object \n",
            " 6   ClosedDate                           55089 non-null   object \n",
            " 7   BorrowerAPR                          113912 non-null  float64\n",
            " 8   BorrowerRate                         113937 non-null  float64\n",
            " 9   LenderYield                          113937 non-null  float64\n",
            " 10  EstimatedEffectiveYield              84853 non-null   float64\n",
            " 11  EstimatedLoss                        84853 non-null   float64\n",
            " 12  EstimatedReturn                      84853 non-null   float64\n",
            " 13  ProsperRating (numeric)              84853 non-null   float64\n",
            " 14  ProsperRating (Alpha)                84853 non-null   object \n",
            " 15  ProsperScore                         84853 non-null   float64\n",
            " 16  ListingCategory (numeric)            113937 non-null  int64  \n",
            " 17  BorrowerState                        108422 non-null  object \n",
            " 18  Occupation                           110349 non-null  object \n",
            " 19  EmploymentStatus                     111682 non-null  object \n",
            " 20  EmploymentStatusDuration             106312 non-null  float64\n",
            " 21  IsBorrowerHomeowner                  113937 non-null  bool   \n",
            " 22  CurrentlyInGroup                     113937 non-null  bool   \n",
            " 23  GroupKey                             13341 non-null   object \n",
            " 24  DateCreditPulled                     113937 non-null  object \n",
            " 25  CreditScoreRangeLower                113346 non-null  float64\n",
            " 26  CreditScoreRangeUpper                113346 non-null  float64\n",
            " 27  FirstRecordedCreditLine              113240 non-null  object \n",
            " 28  CurrentCreditLines                   106333 non-null  float64\n",
            " 29  OpenCreditLines                      106333 non-null  float64\n",
            " 30  TotalCreditLinespast7years           113240 non-null  float64\n",
            " 31  OpenRevolvingAccounts                113937 non-null  int64  \n",
            " 32  OpenRevolvingMonthlyPayment          113937 non-null  float64\n",
            " 33  InquiriesLast6Months                 113240 non-null  float64\n",
            " 34  TotalInquiries                       112778 non-null  float64\n",
            " 35  CurrentDelinquencies                 113240 non-null  float64\n",
            " 36  AmountDelinquent                     106315 non-null  float64\n",
            " 37  DelinquenciesLast7Years              112947 non-null  float64\n",
            " 38  PublicRecordsLast10Years             113240 non-null  float64\n",
            " 39  PublicRecordsLast12Months            106333 non-null  float64\n",
            " 40  RevolvingCreditBalance               106333 non-null  float64\n",
            " 41  BankcardUtilization                  106333 non-null  float64\n",
            " 42  AvailableBankcardCredit              106393 non-null  float64\n",
            " 43  TotalTrades                          106393 non-null  float64\n",
            " 44  TradesNeverDelinquent (percentage)   106393 non-null  float64\n",
            " 45  TradesOpenedLast6Months              106393 non-null  float64\n",
            " 46  DebtToIncomeRatio                    105383 non-null  float64\n",
            " 47  IncomeRange                          113937 non-null  object \n",
            " 48  IncomeVerifiable                     113937 non-null  bool   \n",
            " 49  StatedMonthlyIncome                  113937 non-null  float64\n",
            " 50  LoanKey                              113937 non-null  object \n",
            " 51  TotalProsperLoans                    22085 non-null   float64\n",
            " 52  TotalProsperPaymentsBilled           22085 non-null   float64\n",
            " 53  OnTimeProsperPayments                22085 non-null   float64\n",
            " 54  ProsperPaymentsLessThanOneMonthLate  22085 non-null   float64\n",
            " 55  ProsperPaymentsOneMonthPlusLate      22085 non-null   float64\n",
            " 56  ProsperPrincipalBorrowed             22085 non-null   float64\n",
            " 57  ProsperPrincipalOutstanding          22085 non-null   float64\n",
            " 58  ScorexChangeAtTimeOfListing          18928 non-null   float64\n",
            " 59  LoanCurrentDaysDelinquent            113937 non-null  int64  \n",
            " 60  LoanFirstDefaultedCycleNumber        16952 non-null   float64\n",
            " 61  LoanMonthsSinceOrigination           113937 non-null  int64  \n",
            " 62  LoanNumber                           113937 non-null  int64  \n",
            " 63  LoanOriginalAmount                   113937 non-null  int64  \n",
            " 64  LoanOriginationDate                  113937 non-null  object \n",
            " 65  LoanOriginationQuarter               113937 non-null  object \n",
            " 66  MemberKey                            113937 non-null  object \n",
            " 67  MonthlyLoanPayment                   113937 non-null  float64\n",
            " 68  LP_CustomerPayments                  113937 non-null  float64\n",
            " 69  LP_CustomerPrincipalPayments         113937 non-null  float64\n",
            " 70  LP_InterestandFees                   113937 non-null  float64\n",
            " 71  LP_ServiceFees                       113937 non-null  float64\n",
            " 72  LP_CollectionFees                    113937 non-null  float64\n",
            " 73  LP_GrossPrincipalLoss                113937 non-null  float64\n",
            " 74  LP_NetPrincipalLoss                  113937 non-null  float64\n",
            " 75  LP_NonPrincipalRecoverypayments      113937 non-null  float64\n",
            " 76  PercentFunded                        113937 non-null  float64\n",
            " 77  Recommendations                      113937 non-null  int64  \n",
            " 78  InvestmentFromFriendsCount           113937 non-null  int64  \n",
            " 79  InvestmentFromFriendsAmount          113937 non-null  float64\n",
            " 80  Investors                            113937 non-null  int64  \n",
            "dtypes: bool(3), float64(50), int64(11), object(17)\n",
            "memory usage: 68.1+ MB\n"
          ]
        }
      ]
    },
    {
      "cell_type": "code",
      "source": [
        "for i in range(data.shape[1]):\n",
        "  if (data.isna().sum()[i] != 0 ):\n",
        "      print(data.columns[i] , ' ' , data.isna().sum()[i])\n",
        "\n"
      ],
      "metadata": {
        "colab": {
          "base_uri": "https://localhost:8080/"
        },
        "id": "haZ1mmiEehxC",
        "outputId": "cf6a1a43-cf54-45c2-efa0-067edf8df5bc"
      },
      "execution_count": 6,
      "outputs": [
        {
          "output_type": "stream",
          "name": "stdout",
          "text": [
            "CreditGrade   84984\n",
            "ClosedDate   58848\n",
            "BorrowerAPR   25\n",
            "EstimatedEffectiveYield   29084\n",
            "EstimatedLoss   29084\n",
            "EstimatedReturn   29084\n",
            "ProsperRating (numeric)   29084\n",
            "ProsperRating (Alpha)   29084\n",
            "ProsperScore   29084\n",
            "BorrowerState   5515\n",
            "Occupation   3588\n",
            "EmploymentStatus   2255\n",
            "EmploymentStatusDuration   7625\n",
            "GroupKey   100596\n",
            "CreditScoreRangeLower   591\n",
            "CreditScoreRangeUpper   591\n",
            "FirstRecordedCreditLine   697\n",
            "CurrentCreditLines   7604\n",
            "OpenCreditLines   7604\n",
            "TotalCreditLinespast7years   697\n",
            "InquiriesLast6Months   697\n",
            "TotalInquiries   1159\n",
            "CurrentDelinquencies   697\n",
            "AmountDelinquent   7622\n",
            "DelinquenciesLast7Years   990\n",
            "PublicRecordsLast10Years   697\n",
            "PublicRecordsLast12Months   7604\n",
            "RevolvingCreditBalance   7604\n",
            "BankcardUtilization   7604\n",
            "AvailableBankcardCredit   7544\n",
            "TotalTrades   7544\n",
            "TradesNeverDelinquent (percentage)   7544\n",
            "TradesOpenedLast6Months   7544\n",
            "DebtToIncomeRatio   8554\n",
            "TotalProsperLoans   91852\n",
            "TotalProsperPaymentsBilled   91852\n",
            "OnTimeProsperPayments   91852\n",
            "ProsperPaymentsLessThanOneMonthLate   91852\n",
            "ProsperPaymentsOneMonthPlusLate   91852\n",
            "ProsperPrincipalBorrowed   91852\n",
            "ProsperPrincipalOutstanding   91852\n",
            "ScorexChangeAtTimeOfListing   95009\n",
            "LoanFirstDefaultedCycleNumber   96985\n"
          ]
        }
      ]
    },
    {
      "cell_type": "code",
      "source": [
        "data['ProsperPrincipalOutstanding'].replace(np.nan,0,inplace=True)\n",
        "data['ProsperPrincipalOutstanding'].astype('float64')\n",
        "data['ProsperPrincipalBorrowed'].replace(np.nan,0,inplace=True)\n",
        "data['ProsperPrincipalBorrowed'].astype('float64')\n",
        "data['ScorexChangeAtTimeOfListing'].replace(np.nan,0,inplace=True)\n",
        "data['ScorexChangeAtTimeOfListing'].astype('float64')\n",
        "data['LoanFirstDefaultedCycleNumber'].replace(np.nan,0,inplace=True)\n",
        "data['LoanFirstDefaultedCycleNumber'].astype('float64')\n",
        "\n",
        "data['ProsperPaymentsOneMonthPlusLate'].replace(np.nan,0,inplace=True)\n",
        "data['ProsperPaymentsOneMonthPlusLate'].astype('float64')\n",
        "data['TotalProsperLoans'].replace(np.nan,0,inplace=True)\n",
        "data['TotalProsperLoans'].astype('float64')\n",
        "data['TotalProsperPaymentsBilled'].replace(np.nan,0,inplace=True)\n",
        "data['TotalProsperPaymentsBilled'].astype('float64')\n",
        "data['OnTimeProsperPayments'].replace(np.nan,0,inplace=True)\n",
        "data['OnTimeProsperPayments'].astype('float64')\n",
        "data['ProsperPaymentsLessThanOneMonthLate'].replace(np.nan,0,inplace=True)\n",
        "data['ProsperPaymentsLessThanOneMonthLate'].astype('float64')\n",
        "\n",
        "data['GroupKey'].replace(np.nan,0,inplace=True)\n",
        "\n",
        "data['DebtToIncomeRatio'].replace(np.nan,0,inplace=True)\n",
        "\n",
        "data['TradesOpenedLast6Months'].replace(np.nan, int(data['TradesOpenedLast6Months'].mode()) ,inplace=True)\n"
      ],
      "metadata": {
        "id": "iRDtNlCXifPT"
      },
      "execution_count": 23,
      "outputs": []
    },
    {
      "cell_type": "code",
      "source": [
        ""
      ],
      "metadata": {
        "colab": {
          "base_uri": "https://localhost:8080/"
        },
        "id": "PM4FpiSeua7e",
        "outputId": "069ebe0c-623d-412d-88d0-a3a8abcc8ed8"
      },
      "execution_count": 19,
      "outputs": [
        {
          "output_type": "execute_result",
          "data": {
            "text/plain": [
              "0    0.0\n",
              "dtype: float64"
            ]
          },
          "metadata": {},
          "execution_count": 19
        }
      ]
    },
    {
      "cell_type": "code",
      "source": [
        "nan_columns = []\n",
        "nan_value = []\n",
        "nan_data = []\n",
        "for i in range(data.shape[1]):\n",
        "  if (data.isna().sum()[i] != 0 ):\n",
        "      nan_columns.append(data.columns[i])\n",
        "      nan_value.append(data.isna().sum()[i])\n",
        "      nan_data.append(data[data.columns[i]].dtypes)\n",
        "      print(i,' ' , data.columns[i] , ' ' , data.isna().sum()[i],' ', data[data.columns[i]].dtypes)\n"
      ],
      "metadata": {
        "colab": {
          "base_uri": "https://localhost:8080/"
        },
        "id": "XdEbAZTknygp",
        "outputId": "caa520b8-b402-40ba-9bca-573ebb68f39e"
      },
      "execution_count": 41,
      "outputs": [
        {
          "output_type": "stream",
          "name": "stdout",
          "text": [
            "5   ClosedDate   58848   object\n",
            "13   ProsperRating (Alpha)   29084   object\n",
            "16   BorrowerState   5515   object\n",
            "17   Occupation   3588   object\n",
            "18   EmploymentStatus   2255   object\n",
            "26   FirstRecordedCreditLine   697   object\n"
          ]
        }
      ]
    },
    {
      "cell_type": "code",
      "source": [
        "data['TradesOpenedLast6Months'].unique()"
      ],
      "metadata": {
        "colab": {
          "base_uri": "https://localhost:8080/"
        },
        "id": "WQrI63cborD_",
        "outputId": "dd2c648f-b71b-4bbf-ee96-285213a22418"
      },
      "execution_count": 24,
      "outputs": [
        {
          "output_type": "execute_result",
          "data": {
            "text/plain": [
              "array([ 0.,  2.,  1.,  3.,  7.,  5.,  4.,  6.,  9.,  8., 13., 16., 11.,\n",
              "       10., 17., 20., 12., 14., 15.])"
            ]
          },
          "metadata": {},
          "execution_count": 24
        }
      ]
    },
    {
      "cell_type": "code",
      "source": [
        "for i in range(len(nan_columns)):\n",
        "  if (nan_data[i] == \"float64\"):\n",
        "    data[nan_columns[i]].replace(np.nan,int(data[nan_columns[i]].mode()),inplace=True)\n",
        "\n"
      ],
      "metadata": {
        "id": "eGejOzV8vCCl"
      },
      "execution_count": 38,
      "outputs": []
    },
    {
      "cell_type": "code",
      "source": [
        "data.drop('CreditGrade',axis=1, inplace= True)"
      ],
      "metadata": {
        "id": "1Zke1QH837fh"
      },
      "execution_count": null,
      "outputs": []
    },
    {
      "cell_type": "code",
      "source": [
        ""
      ],
      "metadata": {
        "id": "N3QRe-7u6dyJ"
      },
      "execution_count": null,
      "outputs": []
    }
  ]
}